{
 "cells": [
  {
   "cell_type": "markdown",
   "metadata": {},
   "source": [
    "читает файл, делает датафрейм, где индекс - id асессора"
   ]
  },
  {
   "cell_type": "code",
   "execution_count": 1,
   "metadata": {},
   "outputs": [],
   "source": [
    "import pandas as pd\n",
    "import numpy as np\n",
    "\n",
    "asessors_df = pd.read_csv('D:\\\\Desktop\\\\test_ya\\\\data_task3.csv', sep='\\t').set_index('uid')"
   ]
  },
  {
   "cell_type": "markdown",
   "metadata": {},
   "source": [
    "добавляет столбцы success (1, если jud совпадает с cjud, 0 - если нет) и tasks (везде 1)"
   ]
  },
  {
   "cell_type": "code",
   "execution_count": 2,
   "metadata": {},
   "outputs": [],
   "source": [
    "asessors_df['sucсess'] = np.where(asessors_df['jud'] == asessors_df['cjud'], 1, 0)\n",
    "asessors_df['tasks'] = 1"
   ]
  },
  {
   "cell_type": "markdown",
   "metadata": {},
   "source": [
    "обобщает результаты у каждого ассесора - выдаёт кол-во его заданий ('tasks') и успешно выполненных заданий ('success')\n",
    "\n",
    "\n",
    "убирает столбцы 'cjud', 'jud', 'docid'"
   ]
  },
  {
   "cell_type": "code",
   "execution_count": 3,
   "metadata": {},
   "outputs": [],
   "source": [
    "asessors_df = asessors_df.drop(['cjud', 'jud', 'docid'], axis=1).groupby(asessors_df.index).sum()"
   ]
  },
  {
   "cell_type": "markdown",
   "metadata": {},
   "source": [
    "создаёт столбец 'rate' - доля успешно выполненных заданий среди всех выполненных заданий"
   ]
  },
  {
   "cell_type": "code",
   "execution_count": 4,
   "metadata": {},
   "outputs": [],
   "source": [
    "asessors_df['rate'] = asessors_df['sucсess'] / asessors_df['tasks']"
   ]
  },
  {
   "cell_type": "markdown",
   "metadata": {},
   "source": [
    "сортирует по 'rate'"
   ]
  },
  {
   "cell_type": "code",
   "execution_count": 5,
   "metadata": {},
   "outputs": [
    {
     "name": "stdout",
     "output_type": "stream",
     "text": [
      "     sucсess  tasks      rate\n",
      "uid                          \n",
      "56       175    411  0.425791\n",
      "3        196    426  0.460094\n",
      "118      186    391  0.475703\n",
      "390      198    412  0.480583\n",
      "234       48     99  0.484848\n",
      "550       93    128  0.726562\n",
      "9        313    423  0.739953\n",
      "335      311    419  0.742243\n",
      "154      306    405  0.755556\n",
      "71       328    433  0.757506\n",
      "221      304    400  0.760000\n",
      "219      300    394  0.761421\n",
      "92       319    418  0.763158\n",
      "412      307    402  0.763682\n",
      "354      327    427  0.765808\n"
     ]
    }
   ],
   "source": [
    "asessors_df = asessors_df.sort_values(by=['rate'])\n",
    "print(asessors_df.head(15))"
   ]
  },
  {
   "cell_type": "markdown",
   "metadata": {},
   "source": [
    "Мы видим, что первые пять человек (id 56, 3, 118, 390, 234) явно хуже всего справились - они хорошо выполнили меньше половины заданий, плюс между 234 и 550 очень большой отрыв (больше чем на 20%).\n",
    "Здесь считалась доля успешно выполненных заданий для каждого асессора. Задание успешно выполненно, если оценки jud и cjud совпали.\n",
    "В зависимости от ситуации, можно:\n",
    "1. Считать и наоборот - рейтинг по доле неуспешно выполненных заданий. \n",
    "2. По непосредственному количеству неудач/удач (например, если есть правило \"У асессора есть право на N ошибок - вне зависимости от общего количества выполненных заданий\")\n",
    "3. Если их ответы на задания 0 и 1 неравноправны (например, не критично, если асессор ответил 0 вместо 1, но очень плохо, если 1 вместо 0) - тогда нужна другая система для оценки успешности выполнения задания (например, она будет небинарной: 0 при jud = 1 cjud = 0, 1 при jud = 0 cjud = 1, 2 при совпадении оценки; или смотреть задания с cjud 1 и 0 отдельно друг от друга)\n"
   ]
  },
  {
   "cell_type": "code",
   "execution_count": null,
   "metadata": {},
   "outputs": [],
   "source": []
  }
 ],
 "metadata": {
  "kernelspec": {
   "display_name": "Python 3",
   "language": "python",
   "name": "python3"
  },
  "language_info": {
   "codemirror_mode": {
    "name": "ipython",
    "version": 3
   },
   "file_extension": ".py",
   "mimetype": "text/x-python",
   "name": "python",
   "nbconvert_exporter": "python",
   "pygments_lexer": "ipython3",
   "version": "3.7.3"
  }
 },
 "nbformat": 4,
 "nbformat_minor": 2
}
