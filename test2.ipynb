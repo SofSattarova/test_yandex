{
 "cells": [
  {
   "cell_type": "markdown",
   "metadata": {},
   "source": [
    "делает датафрейм"
   ]
  },
  {
   "cell_type": "code",
   "execution_count": 1,
   "metadata": {
    "scrolled": true
   },
   "outputs": [
    {
     "name": "stdout",
     "output_type": "stream",
     "text": [
      "    login          tid  Microtasks          assigned_ts            closed_ts\n",
      "0  login0  190563850.0         4.0  2017-04-20 12:09:39  2017-04-20 13:13:01\n",
      "1  login0  190561754.0         1.0  2017-04-20 12:10:30  2017-04-20 12:28:29\n",
      "2  login0  190565906.0         4.0  2017-04-20 12:21:31  2017-04-20 13:30:10\n",
      "3  login0  190560246.0         1.0  2017-04-20 12:28:30  2017-04-20 13:13:56\n",
      "4  login0  190562168.0         2.0  2017-04-20 12:28:42  2017-04-20 13:14:50\n"
     ]
    }
   ],
   "source": [
    "import pandas as pd\n",
    "import numpy as np\n",
    "\n",
    "microtasks_df = pd.read_csv('D:\\\\Desktop\\\\test_ya\\\\data_task4_old.txt', sep = '\\t')\n",
    "print (microtasks_df.head())"
   ]
  },
  {
   "cell_type": "markdown",
   "metadata": {},
   "source": [
    "проверяет типы столбцов"
   ]
  },
  {
   "cell_type": "code",
   "execution_count": 2,
   "metadata": {
    "scrolled": true
   },
   "outputs": [
    {
     "data": {
      "text/plain": [
       "login           object\n",
       "tid            float64\n",
       "Microtasks     float64\n",
       "assigned_ts     object\n",
       "closed_ts       object\n",
       "dtype: object"
      ]
     },
     "execution_count": 2,
     "metadata": {},
     "output_type": "execute_result"
    }
   ],
   "source": [
    "microtasks_df.dtypes"
   ]
  },
  {
   "cell_type": "markdown",
   "metadata": {},
   "source": [
    "Меняет типы двух последний столбов на временные"
   ]
  },
  {
   "cell_type": "code",
   "execution_count": 5,
   "metadata": {},
   "outputs": [],
   "source": [
    "microtasks_df['assigned_ts'] = pd.to_datetime(microtasks_df.assigned_ts)\n",
    "microtasks_df['closed_ts'] = pd.to_datetime(microtasks_df.closed_ts) "
   ]
  },
  {
   "cell_type": "markdown",
   "metadata": {},
   "source": [
    "Через разницу столбцов, считает время, потраченное на каждое задание, выводит его в новый столбец 'time spent'"
   ]
  },
  {
   "cell_type": "code",
   "execution_count": 6,
   "metadata": {},
   "outputs": [],
   "source": [
    "microtasks_df['time_spent'] = microtasks_df['closed_ts'] - microtasks_df['assigned_ts']"
   ]
  },
  {
   "cell_type": "code",
   "execution_count": 7,
   "metadata": {
    "scrolled": false
   },
   "outputs": [
    {
     "name": "stdout",
     "output_type": "stream",
     "text": [
      "    login          tid  Microtasks         assigned_ts           closed_ts  \\\n",
      "0  login0  190563850.0         4.0 2017-04-20 12:09:39 2017-04-20 13:13:01   \n",
      "1  login0  190561754.0         1.0 2017-04-20 12:10:30 2017-04-20 12:28:29   \n",
      "2  login0  190565906.0         4.0 2017-04-20 12:21:31 2017-04-20 13:30:10   \n",
      "3  login0  190560246.0         1.0 2017-04-20 12:28:30 2017-04-20 13:13:56   \n",
      "4  login0  190562168.0         2.0 2017-04-20 12:28:42 2017-04-20 13:14:50   \n",
      "\n",
      "  time_spent  \n",
      "0   01:03:22  \n",
      "1   00:17:59  \n",
      "2   01:08:39  \n",
      "3   00:45:26  \n",
      "4   00:46:08  \n"
     ]
    }
   ],
   "source": [
    "print (microtasks_df.head())"
   ]
  },
  {
   "cell_type": "markdown",
   "metadata": {},
   "source": [
    "'time_spent' становится средним временем на выполнение одного микрозадания задания (по строке)"
   ]
  },
  {
   "cell_type": "code",
   "execution_count": 10,
   "metadata": {},
   "outputs": [],
   "source": [
    "microtasks_df['time_spent'] = microtasks_df['time_spent'] / np.timedelta64(1, 's') / microtasks_df['Microtasks']"
   ]
  },
  {
   "cell_type": "markdown",
   "metadata": {},
   "source": [
    "Считает среднее время на выполнение одного задания (по всей таблице)"
   ]
  },
  {
   "cell_type": "code",
   "execution_count": 11,
   "metadata": {},
   "outputs": [],
   "source": [
    "time_for_microtask = microtasks_df['time_spent'].sum () / len(microtasks_df)"
   ]
  },
  {
   "cell_type": "code",
   "execution_count": 12,
   "metadata": {},
   "outputs": [
    {
     "name": "stdout",
     "output_type": "stream",
     "text": [
      "568.1515392052839\n"
     ]
    }
   ],
   "source": [
    "print (time_for_microtask)"
   ]
  },
  {
   "cell_type": "markdown",
   "metadata": {},
   "source": [
    "Оплата по 30 секунд - значит, делим на 30"
   ]
  },
  {
   "cell_type": "code",
   "execution_count": 13,
   "metadata": {},
   "outputs": [
    {
     "name": "stdout",
     "output_type": "stream",
     "text": [
      "18.93838464017613\n"
     ]
    }
   ],
   "source": [
    "print (time_for_microtask / 30)"
   ]
  },
  {
   "cell_type": "markdown",
   "metadata": {},
   "source": [
    "Таким образом, мы вычислили среднее время выполнения одного микрозадания ~568 с, и, соотвественно, оплату за него ~18,9N.\n",
    "\n",
    "Поскольку мы знаем, что во время резерва задания асессор может заниматься чем-то другим, но невозможна ситуация, где он в это время работает сверх (если только он не использует машину времени, чтобы в тот же промежуток времени сделать в два раза больше), то нужно решить необходимость уменьшить 18,9N. Если, например, N предназначается для 30 секунд только работы и само по себе не учитывает перерывы - должны ли мы их учитывать в итоговой оплате за микрозадание?\n",
    "Если да, надо будет смотреть в зависимости от того, что мы будем считать справедливым возможным перерывом в это время резерва:\n",
    "1. T секунд в один промежуток времени (например, 5 минут каждый час работы не должны оплачиваться) - в этом случае можно рассчитать общее время работы, вычесть эти \"5 минут из каждого часа\", а уже потом вычислять среднее за микрозадание.\n",
    "2. считать по асессорам (например, 5% от всего времени каждого асессора считается перерывом) - тогда нужно сгруппировывать данные по времени каждого асессора, вычесть оттуда 5%, а уже потом считать среднее время на микрозадание. \n",
    "3. вычитать \"перерывное время\" непосредственно из среднего времени по микротаску (допустим, 60с из 568с - перерыв, тогда оплата будет 16,9N)"
   ]
  },
  {
   "cell_type": "code",
   "execution_count": null,
   "metadata": {},
   "outputs": [],
   "source": []
  }
 ],
 "metadata": {
  "kernelspec": {
   "display_name": "Python 3",
   "language": "python",
   "name": "python3"
  },
  "language_info": {
   "codemirror_mode": {
    "name": "ipython",
    "version": 3
   },
   "file_extension": ".py",
   "mimetype": "text/x-python",
   "name": "python",
   "nbconvert_exporter": "python",
   "pygments_lexer": "ipython3",
   "version": "3.7.3"
  }
 },
 "nbformat": 4,
 "nbformat_minor": 2
}
